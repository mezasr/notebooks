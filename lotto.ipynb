{
 "metadata": {
  "language_info": {
   "codemirror_mode": {
    "name": "ipython",
    "version": 3
   },
   "file_extension": ".py",
   "mimetype": "text/x-python",
   "name": "python",
   "nbconvert_exporter": "python",
   "pygments_lexer": "ipython3",
   "version": "3.7.4-final"
  },
  "orig_nbformat": 2,
  "kernelspec": {
   "name": "python3",
   "display_name": "Python 3",
   "language": "python"
  }
 },
 "nbformat": 4,
 "nbformat_minor": 2,
 "cells": [
  {
   "source": [
    "# lotto number generator\n",
    "Take 5: choose 5 numbers btwn 1-39\n",
    "## things to consider\n",
    "* no consecutive numbers\n",
    "* no repeats\n",
    "* no multiples\n",
    "* sum of numbers should be btwn 75 & 125 for Take 5\n",
    "* numbers should not end in same digit"
   ],
   "cell_type": "markdown",
   "metadata": {}
  },
  {
   "cell_type": "code",
   "execution_count": 1,
   "metadata": {},
   "outputs": [],
   "source": [
    "from random import seed\n",
    "from random import choice\n",
    "import numpy as np\n",
    "import random"
   ]
  },
  {
   "cell_type": "code",
   "execution_count": 6,
   "metadata": {},
   "outputs": [],
   "source": [
    "# define drawing pools\n",
    "take5 = [i for i in range(1,40)]\n",
    "mega = [i for i in range(1,71)]\n",
    "megaball = [i for i in range(1,26)]\n",
    "power = [i for i in range(1,70)]\n",
    "powerball = [i for i in range(1,27)]\n",
    "\n",
    "# define lotto sum targets\n",
    "take5_target_sum = [i for i in range(75,126)]\n",
    "mega_target_sum, power_target_sum = [i for i in range(138,223)],[i for i in range(138,223)]"
   ]
  },
  {
   "cell_type": "code",
   "execution_count": 18,
   "metadata": {},
   "outputs": [
    {
     "output_type": "stream",
     "name": "stdout",
     "text": [
      "[28, 38, 19, 26, 29]\n140\n"
     ]
    }
   ],
   "source": [
    "# seed random number generator\n",
    "# seed(1)\n",
    "\n",
    "# create empty array\n",
    "nums = np.empty(0, dtype=int)\n",
    "\n",
    "# generate random numbers\n",
    "selection = random.sample(sequence, 5)\n",
    "nums = np.append(nums, selection)\n",
    "print(selection)\n",
    "print(nums.sum())"
   ]
  },
  {
   "cell_type": "code",
   "execution_count": 16,
   "metadata": {},
   "outputs": [],
   "source": [
    "def check_sum(numbers):\n",
    "    if numbers.sum() >= 75 and numbers.sum() <= 125:\n",
    "        print(\"Sum of number is: \", numbers.sum())\n",
    "    else:\n",
    "        print(\"Numbers fail sum test!\")"
   ]
  },
  {
   "cell_type": "code",
   "execution_count": 19,
   "metadata": {},
   "outputs": [
    {
     "output_type": "stream",
     "name": "stdout",
     "text": [
      "Numbers fail sum test!\n"
     ]
    }
   ],
   "source": [
    "check_sum(nums)"
   ]
  },
  {
   "cell_type": "code",
   "execution_count": null,
   "metadata": {},
   "outputs": [],
   "source": []
  }
 ]
}